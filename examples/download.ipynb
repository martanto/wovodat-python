{
 "cells": [
  {
   "cell_type": "code",
   "id": "initial_id",
   "metadata": {
    "collapsed": true
   },
   "source": "from wovodat import WOVOdat",
   "outputs": [],
   "execution_count": null
  },
  {
   "metadata": {},
   "cell_type": "code",
   "source": [
    "wovo = WOVOdat(\n",
    "    verbose=True, # Optional. Default to False. Can be removed\n",
    "    debug=True, # Optional. Default to False. Can be removed\n",
    ")"
   ],
   "id": "2187a5afea9c44fb",
   "outputs": [],
   "execution_count": null
  },
  {
   "metadata": {},
   "cell_type": "code",
   "source": "wovo.all_data_types",
   "id": "dd8b47921a988564",
   "outputs": [],
   "execution_count": null
  },
  {
   "metadata": {},
   "cell_type": "code",
   "source": "wovo.data_availability",
   "id": "f883ca70cba75865",
   "outputs": [],
   "execution_count": null
  },
  {
   "metadata": {},
   "cell_type": "code",
   "source": [
    "wovo.download(\n",
    "    smithsonian_id=\"273083\",\n",
    "    data_type_code=\"6.5\",\n",
    "    start_date=\"1991-05-10\",\n",
    "    end_date=\"1991-05-17\",\n",
    "    username=\"martanto\",\n",
    "    email=\"martanto@live.com\",\n",
    "    affiliation=\"CVGHM\",\n",
    ")"
   ],
   "id": "7c6f11a7adfd7a9d",
   "outputs": [],
   "execution_count": null
  }
 ],
 "metadata": {
  "kernelspec": {
   "display_name": "Python 3",
   "language": "python",
   "name": "python3"
  },
  "language_info": {
   "codemirror_mode": {
    "name": "ipython",
    "version": 2
   },
   "file_extension": ".py",
   "mimetype": "text/x-python",
   "name": "python",
   "nbconvert_exporter": "python",
   "pygments_lexer": "ipython2",
   "version": "2.7.6"
  }
 },
 "nbformat": 4,
 "nbformat_minor": 5
}
